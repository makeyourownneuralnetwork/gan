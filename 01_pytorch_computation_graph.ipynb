{
  "nbformat": 4,
  "nbformat_minor": 0,
  "metadata": {
    "colab": {
      "name": "01_pytorch_computation_graph.ipynb",
      "provenance": [],
      "collapsed_sections": []
    },
    "kernelspec": {
      "name": "python3",
      "display_name": "Python 3"
    }
  },
  "cells": [
    {
      "cell_type": "markdown",
      "metadata": {
        "id": "DpII-qgno6EX",
        "colab_type": "text"
      },
      "source": [
        "# PyTorch Basics - Computation Graph\n",
        "\n",
        "Make Your First GAN With PyTorch, 2020"
      ]
    },
    {
      "cell_type": "code",
      "metadata": {
        "id": "7bkrfSHHAPUB",
        "colab_type": "code",
        "colab": {}
      },
      "source": [
        "import torch"
      ],
      "execution_count": 0,
      "outputs": []
    },
    {
      "cell_type": "markdown",
      "metadata": {
        "id": "R1VyK4VQpNYA",
        "colab_type": "text"
      },
      "source": [
        "## Simple Computation Graph\n",
        "\n",
        "```\n",
        "  (x) --> (y) --> (z)\n",
        "```\n",
        "\n",
        "> y = x^2\n",
        ">\n",
        "> z = 2y + 3"
      ]
    },
    {
      "cell_type": "code",
      "metadata": {
        "id": "MrgKlTsRAfSk",
        "colab_type": "code",
        "colab": {}
      },
      "source": [
        "# set up simple graph relating x, y and z\n",
        "\n",
        "x = torch.tensor(3.5, requires_grad=True)\n",
        "\n",
        "y = x*x\n",
        "\n",
        "z = 2*y + 3"
      ],
      "execution_count": 0,
      "outputs": []
    },
    {
      "cell_type": "code",
      "metadata": {
        "id": "TOhq_oKGXSOy",
        "colab_type": "code",
        "colab": {}
      },
      "source": [
        "# work out gradients\n",
        "\n",
        "z.backward()"
      ],
      "execution_count": 0,
      "outputs": []
    },
    {
      "cell_type": "code",
      "metadata": {
        "id": "qDduuF1v6B_D",
        "colab_type": "code",
        "outputId": "960f2b3c-0dc3-4d10-950b-01eb82823b80",
        "colab": {
          "base_uri": "https://localhost:8080/",
          "height": 34
        }
      },
      "source": [
        "# what is gradient at x = 3.5\n",
        "\n",
        "print(x.grad)"
      ],
      "execution_count": 0,
      "outputs": [
        {
          "output_type": "stream",
          "text": [
            "tensor(14.)\n"
          ],
          "name": "stdout"
        }
      ]
    },
    {
      "cell_type": "markdown",
      "metadata": {
        "colab_type": "text",
        "id": "I7QFFLTZ-N67"
      },
      "source": [
        "## Computation Graph With Multiple Links To A Node\n",
        "\n",
        "```\n",
        "\n",
        "  (a) --> (x)\n",
        "       \\ /     \\\n",
        "       .       (z)\n",
        "      / \\     /\n",
        "  (b) --> (y)\n",
        "\n",
        " \n",
        "  x = 2a + 3b\n",
        " \n",
        "  y = 5a^2 + 3b^3\n",
        " \n",
        "  z = 2x + 3y\n",
        "\n",
        "```"
      ]
    },
    {
      "cell_type": "code",
      "metadata": {
        "colab_type": "code",
        "id": "3CUzpIXo-N69",
        "colab": {}
      },
      "source": [
        "# set up simple graph relating x, y and z\n",
        "\n",
        "a = torch.tensor(2.0, requires_grad=True)\n",
        "b = torch.tensor(1.0, requires_grad=True)\n",
        "\n",
        "x = 2*a + 3*b\n",
        "\n",
        "y = 5*a*a + 3*b*b*b\n",
        "\n",
        "z = 2*x + 3*y"
      ],
      "execution_count": 0,
      "outputs": []
    },
    {
      "cell_type": "code",
      "metadata": {
        "colab_type": "code",
        "id": "OJ5XB02x-N7A",
        "colab": {}
      },
      "source": [
        "# work out gradients\n",
        "\n",
        "z.backward()"
      ],
      "execution_count": 0,
      "outputs": []
    },
    {
      "cell_type": "code",
      "metadata": {
        "colab_type": "code",
        "outputId": "804abbe1-cf8f-47eb-ea5d-bda2bef3b68f",
        "id": "xmq8iajv-N7C",
        "colab": {
          "base_uri": "https://localhost:8080/",
          "height": 34
        }
      },
      "source": [
        "# what is gradient at a = 2.0\n",
        "\n",
        "a.grad"
      ],
      "execution_count": 0,
      "outputs": [
        {
          "output_type": "execute_result",
          "data": {
            "text/plain": [
              "tensor(64.)"
            ]
          },
          "metadata": {
            "tags": []
          },
          "execution_count": 14
        }
      ]
    },
    {
      "cell_type": "markdown",
      "metadata": {
        "id": "ShtN80XgIh7g",
        "colab_type": "text"
      },
      "source": [
        "## Manually check PyTorch Result\n",
        "\n",
        "\n",
        "```\n",
        "\n",
        "dz/da = dz/dx * dx/da + dz/dy * dy/da\n",
        "\n",
        "      = 2 * 2 + 3 * 10a\n",
        "\n",
        "      = 4  + 30a\n",
        "\n",
        "When a = 2.0, dz/da = 64  ... correct!\n",
        "\n",
        "```\n",
        "\n"
      ]
    },
    {
      "cell_type": "code",
      "metadata": {
        "id": "VtD5lVckAJlg",
        "colab_type": "code",
        "colab": {}
      },
      "source": [
        ""
      ],
      "execution_count": 0,
      "outputs": []
    }
  ]
}
